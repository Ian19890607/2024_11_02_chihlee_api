{
 "cells": [
  {
   "cell_type": "code",
   "execution_count": 2,
   "metadata": {},
   "outputs": [],
   "source": [
    "class Duck():\n",
    "\tdef __init__(self, input_name): \n",
    "\t\tself.hidden_name = input_name\n",
    "\n",
    "\tdef get_name(self): \n",
    "\t\tprint('inside the getter') \n",
    "\t\treturn self.hidden_name\n",
    "\t\t\n",
    "\tdef set_name(self, input_name): \n",
    "\t\tprint('inside the setter') \n",
    "\t\tself.hidden_name = input_name\n",
    "\n",
    "\tname = property(get_name, set_name)\n",
    "\t\n"
   ]
  },
  {
   "cell_type": "code",
   "execution_count": 3,
   "metadata": {},
   "outputs": [
    {
     "name": "stdout",
     "output_type": "stream",
     "text": [
      "inside the getter\n",
      "inside the getter\n",
      "inside the setter\n",
      "inside the getter\n",
      "inside the setter\n",
      "inside the getter\n"
     ]
    },
    {
     "data": {
      "text/plain": [
       "'Daffy'"
      ]
     },
     "execution_count": 3,
     "metadata": {},
     "output_type": "execute_result"
    }
   ],
   "source": [
    "fowl = Duck('Howard') \n",
    "fowl.name\n",
    "fowl.get_name() \n",
    "fowl.name = 'Daffy' \n",
    "fowl.name\n",
    "fowl.set_name('Daffy') \n",
    "fowl.name"
   ]
  }
 ],
 "metadata": {
  "kernelspec": {
   "display_name": "base",
   "language": "python",
   "name": "python3"
  },
  "language_info": {
   "codemirror_mode": {
    "name": "ipython",
    "version": 3
   },
   "file_extension": ".py",
   "mimetype": "text/x-python",
   "name": "python",
   "nbconvert_exporter": "python",
   "pygments_lexer": "ipython3",
   "version": "3.12.2"
  }
 },
 "nbformat": 4,
 "nbformat_minor": 2
}
