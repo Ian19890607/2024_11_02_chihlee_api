{
 "cells": [
  {
   "cell_type": "code",
   "execution_count": null,
   "metadata": {},
   "outputs": [],
   "source": [
    "# 20241116 homework \n",
    "'''要檢查使用者輸入的格式,如果輸入錯誤,要求使用者重新輸入\n",
    "-請將計算體重狀態,定義一個function'''\n",
    "\n",
    "def get_status(bmi_kg_m2:float)->str:\n",
    "    if bmi_kg_m2 >= 35 :\n",
    "        bmi = '重度肥胖'\n",
    "    elif bmi_kg_m2 >= 30 :\n",
    "        bmi = '中度肥胖'\n",
    "    elif bmi_kg_m2 >= 27 :\n",
    "        bmi = '輕度肥胖'\n",
    "    elif bmi_kg_m2 >= 24 :\n",
    "        bmi = '過重'\n",
    "    elif bmi_kg_m2 >= 18.5 :\n",
    "        bmi = '正常範圍'\n",
    "    else :\n",
    "        bmi = '過輕' \n",
    "    return bmi\n",
    "\n",
    "def cal_bmi(height_cm,weight_kg):\n",
    "    return bmi_kg_m2 = round(weight_kg/(height_m**2), 2)\n",
    "    \n",
    "while (True):\n",
    "    try:\n",
    "        height_cm = float(input(\"請輸入身高(公分):\"))\n",
    "        weight_kg = float(input(\"請輸入體重(公斤):\"))\n",
    "    except Exception:\n",
    "        print('輸入格式錯誤')   \n",
    "        continue\n",
    "    else:\n",
    "        break\n",
    "your_bmi=cal_bmi(height_cm,weight_kg)\n",
    "your_bmi_comment=get_status(your_bmi)\n",
    "\n",
    "\n",
    "print(\"程式結束\")\n"
   ]
  }
 ],
 "metadata": {
  "kernelspec": {
   "display_name": "base",
   "language": "python",
   "name": "python3"
  },
  "language_info": {
   "name": "python",
   "version": "3.12.7"
  }
 },
 "nbformat": 4,
 "nbformat_minor": 2
}
